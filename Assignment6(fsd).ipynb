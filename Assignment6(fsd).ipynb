{
 "cells": [
  {
   "cell_type": "markdown",
   "id": "fb571c8e",
   "metadata": {},
   "source": [
    "### 1. What are escape characters, and how do you use them?"
   ]
  },
  {
   "cell_type": "markdown",
   "id": "cd1b542a",
   "metadata": {},
   "source": [
    "Escape characters are special characters that are used to represent certain non-printable or reserved characters within a string or text document. They are usually represented by a backslash () followed by a specific character. Escape characters allow you to include characters that would otherwise be difficult or impossible to type directly into a string."
   ]
  },
  {
   "cell_type": "markdown",
   "id": "d3c91aef",
   "metadata": {},
   "source": [
    "### 2. What do the escape characters n and t stand for?"
   ]
  },
  {
   "cell_type": "markdown",
   "id": "7f0899b6",
   "metadata": {},
   "source": [
    "1.\n",
    "\\n: Represents a newline character. It is used to start a new line within a string.\n",
    "Example: \"Hello\\nWorld\" would display as:\n",
    "\n",
    "Hello\n",
    "\n",
    "World\n"
   ]
  },
  {
   "cell_type": "markdown",
   "id": "5111223d",
   "metadata": {},
   "source": [
    "2.\n",
    "\\t: Represents a tab character. It is used to create horizontal spacing within a string.\n",
    "Example: \"Hello\\tWorld\" would display as: Hello World"
   ]
  },
  {
   "cell_type": "markdown",
   "id": "52685df6",
   "metadata": {},
   "source": [
    "### 3. What is the way to include backslash characters in a string?"
   ]
  },
  {
   "cell_type": "markdown",
   "id": "4d96fc69",
   "metadata": {},
   "source": [
    "To include a backslash character () in a string, you can use the escape character itself. In most programming languages, the escape character is also a backslash. Therefore, to represent a literal backslash, you need to use a double backslash (\\)."
   ]
  },
  {
   "cell_type": "markdown",
   "id": "92499465",
   "metadata": {},
   "source": [
    "### 4. The string \"Howl's Moving Castle\" is a correct value. Why isn't the single quote character in the word Howl's not escaped a problem?"
   ]
  },
  {
   "cell_type": "markdown",
   "id": "4d7ed70d",
   "metadata": {},
   "source": [
    "The single quote character (') in the string \"Howl's Moving Castle\" is not causing any problems because the string itself is enclosed in double quotes (\")."
   ]
  },
  {
   "cell_type": "markdown",
   "id": "1f1db4ce",
   "metadata": {},
   "source": [
    "When a string is enclosed in one type of quote, the other type of quote can be used within the string without needing to be escaped. This allows for more flexibility and readability when working with strings that contain quotes."
   ]
  },
  {
   "cell_type": "markdown",
   "id": "94c19195",
   "metadata": {},
   "source": [
    "### 5. How do you write a string of newlines if you don't want to use the n character?"
   ]
  },
  {
   "cell_type": "markdown",
   "id": "787baf9a",
   "metadata": {},
   "source": [
    "Using multi-line string literals: In many programming languages, you can create multi-line string literals by enclosing the string within triple quotes (\"\"\" or '''). This allows you to include newlines directly in the string without using escape characters."
   ]
  },
  {
   "cell_type": "markdown",
   "id": "125f60be",
   "metadata": {},
   "source": [
    "### 6. What are the values of the given expressions?\n",
    "\n"
   ]
  },
  {
   "cell_type": "markdown",
   "id": "9c9a4e13",
   "metadata": {},
   "source": [
    "'Hello, world!'[1]\n",
    "\n",
    "'Hello, world!'[0:5]\n",
    "\n",
    "'Hello, world!'[:5]\n",
    "\n",
    "'Hello, world!'[3:]\n",
    "\n"
   ]
  },
  {
   "cell_type": "code",
   "execution_count": 5,
   "id": "d6878d59",
   "metadata": {},
   "outputs": [
    {
     "data": {
      "text/plain": [
       "'e'"
      ]
     },
     "execution_count": 5,
     "metadata": {},
     "output_type": "execute_result"
    }
   ],
   "source": [
    "'Hello, world!'[1]\n"
   ]
  },
  {
   "cell_type": "code",
   "execution_count": 6,
   "id": "48dddc8f",
   "metadata": {},
   "outputs": [
    {
     "data": {
      "text/plain": [
       "'Hello'"
      ]
     },
     "execution_count": 6,
     "metadata": {},
     "output_type": "execute_result"
    }
   ],
   "source": [
    "'Hello, world!'[0:5]\n"
   ]
  },
  {
   "cell_type": "code",
   "execution_count": 7,
   "id": "280cf24e",
   "metadata": {},
   "outputs": [
    {
     "data": {
      "text/plain": [
       "'Hello'"
      ]
     },
     "execution_count": 7,
     "metadata": {},
     "output_type": "execute_result"
    }
   ],
   "source": [
    "'Hello, world!'[:5]\n"
   ]
  },
  {
   "cell_type": "code",
   "execution_count": 8,
   "id": "b6db3bb5",
   "metadata": {},
   "outputs": [
    {
     "data": {
      "text/plain": [
       "'lo, world!'"
      ]
     },
     "execution_count": 8,
     "metadata": {},
     "output_type": "execute_result"
    }
   ],
   "source": [
    "'Hello, world!'[3:]"
   ]
  },
  {
   "cell_type": "markdown",
   "id": "98148df2",
   "metadata": {},
   "source": [
    "### 7. What are the values of the following expressions?\n",
    "\n",
    "'Hello'.upper()\n",
    "\n",
    "'Hello'.upper().isupper()\n",
    "\n",
    "'Hello'.upper().lower()\n"
   ]
  },
  {
   "cell_type": "code",
   "execution_count": 9,
   "id": "0aa181fc",
   "metadata": {},
   "outputs": [
    {
     "data": {
      "text/plain": [
       "'HELLO'"
      ]
     },
     "execution_count": 9,
     "metadata": {},
     "output_type": "execute_result"
    }
   ],
   "source": [
    "'Hello'.upper()\n"
   ]
  },
  {
   "cell_type": "code",
   "execution_count": 10,
   "id": "127d3285",
   "metadata": {},
   "outputs": [
    {
     "data": {
      "text/plain": [
       "True"
      ]
     },
     "execution_count": 10,
     "metadata": {},
     "output_type": "execute_result"
    }
   ],
   "source": [
    "\n",
    "'Hello'.upper().isupper()\n",
    "\n",
    "\n"
   ]
  },
  {
   "cell_type": "code",
   "execution_count": 11,
   "id": "d9deb6db",
   "metadata": {},
   "outputs": [
    {
     "data": {
      "text/plain": [
       "'hello'"
      ]
     },
     "execution_count": 11,
     "metadata": {},
     "output_type": "execute_result"
    }
   ],
   "source": [
    "'Hello'.upper().lower()"
   ]
  },
  {
   "cell_type": "markdown",
   "id": "19dfab82",
   "metadata": {},
   "source": [
    "### 8. What are the values of the following expressions?\n",
    "\n",
    "'Remember, remember, the fifth of July.'.split()\n",
    "'-'.join('There can only one.'.split())\n"
   ]
  },
  {
   "cell_type": "code",
   "execution_count": 12,
   "id": "b6d62b57",
   "metadata": {},
   "outputs": [
    {
     "data": {
      "text/plain": [
       "'There-can-only-one.'"
      ]
     },
     "execution_count": 12,
     "metadata": {},
     "output_type": "execute_result"
    }
   ],
   "source": [
    "'Remember, remember, the fifth of July.'.split()\n",
    "'-'.join('There can only one.'.split())\n"
   ]
  },
  {
   "cell_type": "markdown",
   "id": "7c7aaf17",
   "metadata": {},
   "source": [
    "### 9. What are the methods for right-justifying, left-justifying, and centering a string?"
   ]
  },
  {
   "cell_type": "markdown",
   "id": "0511857f",
   "metadata": {},
   "source": [
    "Right-justifying a string: This aligns the string to the right, padding it with spaces on the left if necessary."
   ]
  },
  {
   "cell_type": "markdown",
   "id": "369c50b1",
   "metadata": {},
   "source": [
    "Left-justifying a string: This aligns the string to the left, padding it with spaces on the right if necessary."
   ]
  },
  {
   "cell_type": "markdown",
   "id": "9a392640",
   "metadata": {},
   "source": [
    "Centering a string: This aligns the string in the center, padding it with spaces on both sides if necessary."
   ]
  },
  {
   "cell_type": "markdown",
   "id": "2e737d84",
   "metadata": {},
   "source": [
    "### 10. What is the best way to remove whitespace characters from the start or end?"
   ]
  },
  {
   "cell_type": "markdown",
   "id": "1776a825",
   "metadata": {},
   "source": [
    "str.strip(): This method removes whitespace characters from both the start and end of a string."
   ]
  }
 ],
 "metadata": {
  "kernelspec": {
   "display_name": "Python 3 (ipykernel)",
   "language": "python",
   "name": "python3"
  },
  "language_info": {
   "codemirror_mode": {
    "name": "ipython",
    "version": 3
   },
   "file_extension": ".py",
   "mimetype": "text/x-python",
   "name": "python",
   "nbconvert_exporter": "python",
   "pygments_lexer": "ipython3",
   "version": "3.9.7"
  }
 },
 "nbformat": 4,
 "nbformat_minor": 5
}
